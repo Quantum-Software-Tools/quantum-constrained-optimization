{
 "cells": [
  {
   "cell_type": "code",
   "execution_count": 1,
   "id": "352162f3-91b2-4872-a9ef-87c80d6d1ba5",
   "metadata": {},
   "outputs": [],
   "source": [
    "import numpy as np\n",
    "import networkx as nx\n",
    "import qiskit\n",
    "from qiskit import Aer\n",
    "\n",
    "from utils import graph_funcs, helper_funcs\n",
    "from ansatz import dqv_ancilla_ansatz, dqva\n",
    "\n",
    "from NuOp import gates_numpy\n",
    "from NuOp import parallel_two_qubit_gate_decomposition as nuop"
   ]
  },
  {
   "cell_type": "markdown",
   "id": "9289ca7d-effe-47e0-9713-da9f86d0deef",
   "metadata": {},
   "source": [
    "# No ancilla comparison"
   ]
  },
  {
   "cell_type": "code",
   "execution_count": 117,
   "id": "4918ccad-42d5-4261-ae30-c472a347f7ef",
   "metadata": {},
   "outputs": [
    {
     "data": {
      "text/html": [
       "<pre style=\"word-wrap: normal;white-space: pre;background: #fff0;line-height: 1.1;font-family: &quot;Courier New&quot;,Courier,monospace\">                                                                                   ┌───┐                      ┌───┐                     ┌───┐                      ┌───┐                      ░ ┌─┐         \n",
       "q9543_0: ──────────────────────────────────────────────────────────────────────────┤ X ├──────────■───────────┤ X ├──────────■──────────┤ X ├──────────■───────────┤ X ├──────────■───────────░─┤M├─────────\n",
       "                              ┌───┐                      ┌───┐                     └─┬─┘          │           └─┬─┘          │          └─┬─┘          │           └─┬─┘          │           ░ └╥┘┌─┐      \n",
       "q9543_1: ─────────────────────┤ X ├──────────■───────────┤ X ├──────────■────────────■────────────┼─────────────┼────────────┼────────────■────────────┼─────────────┼────────────┼───────────░──╫─┤M├──────\n",
       "                              └─┬─┘          │           └─┬─┘          │                         │             │            │                         │             │            │           ░  ║ └╥┘┌─┐   \n",
       "q9543_2: ──────────■────────────■────────────┼─────────────■────────────┼─────────────────────────┼─────────────■────────────┼─────────────────────────┼─────────────■────────────┼───────────░──╫──╫─┤M├───\n",
       "         ┌─────────┴─────────┐     ┌─────────┴──────────┐     ┌─────────┴─────────┐     ┌─────────┴──────────┐     ┌─────────┴─────────┐     ┌─────────┴──────────┐     ┌─────────┴─────────┐ ░  ║  ║ └╥┘┌─┐\n",
       "q9543_3: ┤ U(π/8,-π/2,π/2,0) ├─────┤ U(-π/8,-π/2,π/2,0) ├─────┤ U(π/8,-π/2,π/2,0) ├─────┤ U(-π/8,-π/2,π/2,0) ├─────┤ U(π/8,-π/2,π/2,0) ├─────┤ U(-π/8,-π/2,π/2,0) ├─────┤ U(π/8,-π/2,π/2,0) ├─░──╫──╫──╫─┤M├\n",
       "         └───────────────────┘     └────────────────────┘     └───────────────────┘     └────────────────────┘     └───────────────────┘     └────────────────────┘     └───────────────────┘ ░  ║  ║  ║ └╥┘\n",
       " meas: 4/════════════════════════════════════════════════════════════════════════════════════════════════════════════════════════════════════════════════════════════════════════════════════════╩══╩══╩══╩═\n",
       "                                                                                                                                                                                                 0  1  2  3 </pre>"
      ],
      "text/plain": [
       "                                                                                   ┌───┐                      ┌───┐                     ┌───┐                      ┌───┐                      ░ ┌─┐         \n",
       "q9543_0: ──────────────────────────────────────────────────────────────────────────┤ X ├──────────■───────────┤ X ├──────────■──────────┤ X ├──────────■───────────┤ X ├──────────■───────────░─┤M├─────────\n",
       "                              ┌───┐                      ┌───┐                     └─┬─┘          │           └─┬─┘          │          └─┬─┘          │           └─┬─┘          │           ░ └╥┘┌─┐      \n",
       "q9543_1: ─────────────────────┤ X ├──────────■───────────┤ X ├──────────■────────────■────────────┼─────────────┼────────────┼────────────■────────────┼─────────────┼────────────┼───────────░──╫─┤M├──────\n",
       "                              └─┬─┘          │           └─┬─┘          │                         │             │            │                         │             │            │           ░  ║ └╥┘┌─┐   \n",
       "q9543_2: ──────────■────────────■────────────┼─────────────■────────────┼─────────────────────────┼─────────────■────────────┼─────────────────────────┼─────────────■────────────┼───────────░──╫──╫─┤M├───\n",
       "         ┌─────────┴─────────┐     ┌─────────┴──────────┐     ┌─────────┴─────────┐     ┌─────────┴──────────┐     ┌─────────┴─────────┐     ┌─────────┴──────────┐     ┌─────────┴─────────┐ ░  ║  ║ └╥┘┌─┐\n",
       "q9543_3: ┤ U(π/8,-π/2,π/2,0) ├─────┤ U(-π/8,-π/2,π/2,0) ├─────┤ U(π/8,-π/2,π/2,0) ├─────┤ U(-π/8,-π/2,π/2,0) ├─────┤ U(π/8,-π/2,π/2,0) ├─────┤ U(-π/8,-π/2,π/2,0) ├─────┤ U(π/8,-π/2,π/2,0) ├─░──╫──╫──╫─┤M├\n",
       "         └───────────────────┘     └────────────────────┘     └───────────────────┘     └────────────────────┘     └───────────────────┘     └────────────────────┘     └───────────────────┘ ░  ║  ║  ║ └╥┘\n",
       " meas: 4/════════════════════════════════════════════════════════════════════════════════════════════════════════════════════════════════════════════════════════════════════════════════════════╩══╩══╩══╩═\n",
       "                                                                                                                                                                                                 0  1  2  3 "
      ]
     },
     "execution_count": 117,
     "metadata": {},
     "output_type": "execute_result"
    }
   ],
   "source": [
    "theta = np.pi / 2 \n",
    "qubits = qiskit.QuantumRegister(4)\n",
    "ancilla_circ = qiskit.QuantumCircuit(qubits)\n",
    "ancilla_circ.mcrx(theta, qubits[:3], qubits[3])\n",
    "ancilla_circ.measure_all()\n",
    "ancilla_circ.draw(fold=-1)"
   ]
  },
  {
   "cell_type": "code",
   "execution_count": 118,
   "id": "c931e0f4-0933-4d4f-9732-31f38dcabfdf",
   "metadata": {},
   "outputs": [
    {
     "data": {
      "text/html": [
       "<pre style=\"word-wrap: normal;white-space: pre;background: #fff0;line-height: 1.1;font-family: &quot;Courier New&quot;,Courier,monospace\">                                                                  ░ ┌─┐         \n",
       "q9543_0: ────────────────────────■────────────────■───────────────░─┤M├─────────\n",
       "                                 │                │               ░ └╥┘┌─┐      \n",
       "q9543_1: ────────────────────────■────────────────■───────────────░──╫─┤M├──────\n",
       "                                 │                │               ░  ║ └╥┘┌─┐   \n",
       "q9543_2: ────────────────────────■────────────────■───────────────░──╫──╫─┤M├───\n",
       "         ┌─────────┐┌─────────┐┌─┴─┐┌──────────┐┌─┴─┐┌──────────┐ ░  ║  ║ └╥┘┌─┐\n",
       "q9543_3: ┤ Rz(π/2) ├┤ Ry(π/4) ├┤ X ├┤ Ry(-π/4) ├┤ X ├┤ Rz(-π/2) ├─░──╫──╫──╫─┤M├\n",
       "         └─────────┘└─────────┘└───┘└──────────┘└───┘└──────────┘ ░  ║  ║  ║ └╥┘\n",
       " meas: 4/════════════════════════════════════════════════════════════╩══╩══╩══╩═\n",
       "                                                                     0  1  2  3 </pre>"
      ],
      "text/plain": [
       "                                                                  ░ ┌─┐         \n",
       "q9543_0: ────────────────────────■────────────────■───────────────░─┤M├─────────\n",
       "                                 │                │               ░ └╥┘┌─┐      \n",
       "q9543_1: ────────────────────────■────────────────■───────────────░──╫─┤M├──────\n",
       "                                 │                │               ░  ║ └╥┘┌─┐   \n",
       "q9543_2: ────────────────────────■────────────────■───────────────░──╫──╫─┤M├───\n",
       "         ┌─────────┐┌─────────┐┌─┴─┐┌──────────┐┌─┴─┐┌──────────┐ ░  ║  ║ └╥┘┌─┐\n",
       "q9543_3: ┤ Rz(π/2) ├┤ Ry(π/4) ├┤ X ├┤ Ry(-π/4) ├┤ X ├┤ Rz(-π/2) ├─░──╫──╫──╫─┤M├\n",
       "         └─────────┘└─────────┘└───┘└──────────┘└───┘└──────────┘ ░  ║  ║  ║ └╥┘\n",
       " meas: 4/════════════════════════════════════════════════════════════╩══╩══╩══╩═\n",
       "                                                                     0  1  2  3 "
      ]
     },
     "execution_count": 118,
     "metadata": {},
     "output_type": "execute_result"
    }
   ],
   "source": [
    "new_circ = qiskit.QuantumCircuit(qubits)\n",
    "new_circ.rz(np.pi/2, qubits[3])\n",
    "new_circ.ry(theta/2, qubits[3])\n",
    "new_circ.mct(qubits[:3], qubits[3])\n",
    "new_circ.ry(-theta/2, qubits[3])\n",
    "new_circ.mct(qubits[:3], qubits[3])\n",
    "new_circ.rz(-np.pi/2, qubits[3])\n",
    "new_circ.measure_all()\n",
    "new_circ.draw(fold=-1)"
   ]
  },
  {
   "cell_type": "code",
   "execution_count": 85,
   "id": "42450284-ac5d-4d2d-af1b-d3f0f7d2f872",
   "metadata": {},
   "outputs": [],
   "source": [
    "def eval_basis_state(basis_state, circuit):\n",
    "    qubits = circuit.qubits\n",
    "    init_circ = qiskit.QuantumCircuit(qubits)\n",
    "    for i, bit in enumerate(basis_state):\n",
    "        if bit == '1':\n",
    "            init_circ.x(qubits[i])\n",
    "    \n",
    "    result = qiskit.execute(init_circ + circuit, Aer.aer.get_backend('aer_simulator'), shots=100).result()\n",
    "    \n",
    "    return result.get_counts()"
   ]
  },
  {
   "cell_type": "code",
   "execution_count": 95,
   "id": "b9bd771a-0563-4ec5-acb4-e8e0badc1b58",
   "metadata": {},
   "outputs": [
    {
     "name": "stdout",
     "output_type": "stream",
     "text": [
      "Basis states are ordered: q3q2q1q0\n",
      "Basis state, Old Circ, New Circ\n",
      "-------------------------------\n",
      "     0000      0000      0000\n",
      "     0001      0001      0001\n",
      "     0010      0010      0010\n",
      "     0011      0011      0011\n",
      "     0100      0100      0100\n",
      "     0101      0101      0101\n",
      "     0110      0110      0110\n",
      "     0111      1111      1111\n",
      "     1000      1000      1000\n",
      "     1001      1001      1001\n",
      "     1010      1010      1010\n",
      "     1011      1011      1011\n",
      "     1100      1100      1100\n",
      "     1101      1101      1101\n",
      "     1110      1110      1110\n",
      "     1111      0111      0111\n"
     ]
    }
   ],
   "source": [
    "print('Basis states are ordered: q3q2q1q0')\n",
    "print('Basis state, Old Circ, New Circ')\n",
    "print('-'*31)\n",
    "for basis_idx in range(int(2**4)):\n",
    "    basis_state = f'{basis_idx:04b}'\n",
    "    old_output = list(eval_basis_state(''.join(reversed(list(basis_state))), ancilla_circ).keys())\n",
    "    new_output = list(eval_basis_state(''.join(reversed(list(basis_state))), new_circ).keys())\n",
    "    print(' '*4, basis_state, ' '*4, *old_output, ' '*4, *new_output)"
   ]
  },
  {
   "cell_type": "code",
   "execution_count": 119,
   "id": "cf722700-18ed-4dfa-abc6-560e8c53e251",
   "metadata": {},
   "outputs": [
    {
     "data": {
      "text/plain": [
       "True"
      ]
     },
     "execution_count": 119,
     "metadata": {},
     "output_type": "execute_result"
    }
   ],
   "source": [
    "ancilla_circ.remove_final_measurements()\n",
    "new_circ.remove_final_measurements()\n",
    "\n",
    "old_job = qiskit.execute(ancilla_circ, Aer.aer.get_backend('unitary_simulator'))\n",
    "old_result = old_job.result()\n",
    "old_unitary = old_result.get_unitary(ancilla_circ, decimals=3)\n",
    "\n",
    "new_job = qiskit.execute(new_circ, Aer.aer.get_backend('unitary_simulator'))\n",
    "new_result = new_job.result()\n",
    "new_unitary = new_result.get_unitary(new_circ, decimals=3)\n",
    "\n",
    "(old_unitary == new_unitary).all()"
   ]
  },
  {
   "cell_type": "markdown",
   "id": "3eccab3a-8f13-4ea7-ac99-477fbb33c6b8",
   "metadata": {},
   "source": [
    "# MCRX gate"
   ]
  },
  {
   "cell_type": "code",
   "execution_count": 120,
   "id": "3561262b-d045-4b73-b874-ebfa0ad3940f",
   "metadata": {},
   "outputs": [],
   "source": [
    "from qiskit.circuit import ControlledGate\n",
    "from qiskit.circuit.library.standard_gates import RXGate"
   ]
  },
  {
   "cell_type": "code",
   "execution_count": 124,
   "id": "30f10c3e-07d0-4fee-a055-390f3aec0ebb",
   "metadata": {},
   "outputs": [],
   "source": [
    "mcrx = ControlledGate('mcrx', 4, [2 * np.pi],\n",
    "                      num_ctrl_qubits=3,\n",
    "                      ctrl_state='000',\n",
    "                      base_gate=RXGate(2 * np.pi))"
   ]
  },
  {
   "cell_type": "code",
   "execution_count": 126,
   "id": "0a2a9d50-f4ae-42c6-b3a8-ca0324e598c5",
   "metadata": {},
   "outputs": [
    {
     "data": {
      "text/html": [
       "<pre style=\"word-wrap: normal;white-space: pre;background: #fff0;line-height: 1.1;font-family: &quot;Courier New&quot;,Courier,monospace\">                   \n",
       "q9570_0: ────o─────\n",
       "             │     \n",
       "q9570_1: ────o─────\n",
       "             │     \n",
       "q9570_2: ────o─────\n",
       "         ┌───┴────┐\n",
       "q9570_3: ┤ Rx(2π) ├\n",
       "         └────────┘</pre>"
      ],
      "text/plain": [
       "                   \n",
       "q9570_0: ────o─────\n",
       "             │     \n",
       "q9570_1: ────o─────\n",
       "             │     \n",
       "q9570_2: ────o─────\n",
       "         ┌───┴────┐\n",
       "q9570_3: ┤ Rx(2π) ├\n",
       "         └────────┘"
      ]
     },
     "execution_count": 126,
     "metadata": {},
     "output_type": "execute_result"
    }
   ],
   "source": [
    "qubits = qiskit.QuantumRegister(4)\n",
    "circ = qiskit.QuantumCircuit(qubits)\n",
    "circ.append(mcrx, qubits)\n",
    "circ.draw()"
   ]
  },
  {
   "cell_type": "markdown",
   "id": "64641a3f-4ca7-4aef-99c8-e304c0f868b1",
   "metadata": {},
   "source": [
    "## Test new gate and no-ancilla circuit"
   ]
  },
  {
   "cell_type": "code",
   "execution_count": 2,
   "id": "47cf4c0b-478c-4e9e-853f-0434caafe4be",
   "metadata": {},
   "outputs": [
    {
     "data": {
      "image/png": "[encoded data removed]",
      "text/plain": [
       "<Figure size 432x288 with 1 Axes>"
      ]
     },
     "metadata": {},
     "output_type": "display_data"
    }
   ],
   "source": [
    "G = graph_funcs.graph_from_file('benchmark_graphs/N8_d3_graphs/G1.txt')\n",
    "nx.draw_spring(G, with_labels=True, node_color='gold')"
   ]
  },
  {
   "cell_type": "code",
   "execution_count": 3,
   "id": "f889fb43-c5fa-496c-a70c-e0e49bc4ffb2",
   "metadata": {},
   "outputs": [
    {
     "data": {
      "text/html": [
       "<pre style=\"word-wrap: normal;white-space: pre;background: #fff0;line-height: 1.1;font-family: &quot;Courier New&quot;,Courier,monospace\">      ░           ░           ░           ░           ░           ░           ░ ┌───────┐ ░           ░  ░ ┌───────┐ ░  ░ \n",
       "q_0: ─░───────────░───────────░───────────░─────o─────░───────────░─────o─────░─┤ Rx(2) ├─░─────o─────░──░─┤ Rz(2) ├─░──░─\n",
       "      ░           ░           ░           ░     │     ░ ┌───────┐ ░     │     ░ └───┬───┘ ░     │     ░  ░ ├───────┤ ░  ░ \n",
       "q_1: ─░───────────░─────o─────░───────────░─────┼─────░─┤ Rx(2) ├─░─────o─────░─────┼─────░─────o─────░──░─┤ Rz(2) ├─░──░─\n",
       "      ░ ┌───────┐ ░     │     ░           ░     │     ░ └───┬───┘ ░     │     ░     │     ░     │     ░  ░ ├───────┤ ░  ░ \n",
       "q_2: ─░─┤ Rx(2) ├─░─────o─────░─────o─────░─────o─────░─────┼─────░─────┼─────░─────┼─────░─────┼─────░──░─┤ Rz(2) ├─░──░─\n",
       "      ░ └───┬───┘ ░     │     ░     │     ░ ┌───┴───┐ ░     │     ░     │     ░     │     ░     │     ░  ░ ├───────┤ ░  ░ \n",
       "q_3: ─░─────o─────░─────┼─────░─────┼─────░─┤ Rx(2) ├─░─────┼─────░─────┼─────░─────o─────░─────o─────░──░─┤ Rz(2) ├─░──░─\n",
       "      ░     │     ░     │     ░     │     ░ └───┬───┘ ░     │     ░ ┌───┴───┐ ░     │     ░     │     ░  ░ ├───────┤ ░  ░ \n",
       "q_4: ─░─────┼─────░─────┼─────░─────o─────░─────┼─────░─────o─────░─┤ Rx(2) ├─░─────o─────░─────┼─────░──░─┤ Rz(2) ├─░──░─\n",
       "      ░     │     ░     │     ░     │     ░     │     ░     │     ░ └───┬───┘ ░     │     ░ ┌───┴───┐ ░  ░ ├───────┤ ░  ░ \n",
       "q_5: ─░─────┼─────░─────┼─────░─────┼─────░─────o─────░─────o─────░─────┼─────░─────o─────░─┤ Rx(2) ├─░──░─┤ Rz(2) ├─░──░─\n",
       "      ░     │     ░     │     ░ ┌───┴───┐ ░           ░     │     ░     │     ░           ░ └───────┘ ░  ░ ├───────┤ ░  ░ \n",
       "q_6: ─░─────o─────░─────o─────░─┤ Rx(2) ├─░───────────░─────┼─────░─────o─────░───────────░───────────░──░─┤ Rz(2) ├─░──░─\n",
       "      ░     │     ░ ┌───┴───┐ ░ └───┬───┘ ░           ░     │     ░           ░           ░           ░  ░ ├───────┤ ░  ░ \n",
       "q_7: ─░─────o─────░─┤ Rx(2) ├─░─────o─────░───────────░─────o─────░───────────░───────────░───────────░──░─┤ Rz(2) ├─░──░─\n",
       "      ░           ░ └───────┘ ░           ░           ░           ░           ░           ░           ░  ░ └───────┘ ░  ░ </pre>"
      ],
      "text/plain": [
       "      ░           ░           ░           ░           ░           ░           ░ ┌───────┐ ░           ░  ░ ┌───────┐ ░  ░ \n",
       "q_0: ─░───────────░───────────░───────────░─────o─────░───────────░─────o─────░─┤ Rx(2) ├─░─────o─────░──░─┤ Rz(2) ├─░──░─\n",
       "      ░           ░           ░           ░     │     ░ ┌───────┐ ░     │     ░ └───┬───┘ ░     │     ░  ░ ├───────┤ ░  ░ \n",
       "q_1: ─░───────────░─────o─────░───────────░─────┼─────░─┤ Rx(2) ├─░─────o─────░─────┼─────░─────o─────░──░─┤ Rz(2) ├─░──░─\n",
       "      ░ ┌───────┐ ░     │     ░           ░     │     ░ └───┬───┘ ░     │     ░     │     ░     │     ░  ░ ├───────┤ ░  ░ \n",
       "q_2: ─░─┤ Rx(2) ├─░─────o─────░─────o─────░─────o─────░─────┼─────░─────┼─────░─────┼─────░─────┼─────░──░─┤ Rz(2) ├─░──░─\n",
       "      ░ └───┬───┘ ░     │     ░     │     ░ ┌───┴───┐ ░     │     ░     │     ░     │     ░     │     ░  ░ ├───────┤ ░  ░ \n",
       "q_3: ─░─────o─────░─────┼─────░─────┼─────░─┤ Rx(2) ├─░─────┼─────░─────┼─────░─────o─────░─────o─────░──░─┤ Rz(2) ├─░──░─\n",
       "      ░     │     ░     │     ░     │     ░ └───┬───┘ ░     │     ░ ┌───┴───┐ ░     │     ░     │     ░  ░ ├───────┤ ░  ░ \n",
       "q_4: ─░─────┼─────░─────┼─────░─────o─────░─────┼─────░─────o─────░─┤ Rx(2) ├─░─────o─────░─────┼─────░──░─┤ Rz(2) ├─░──░─\n",
       "      ░     │     ░     │     ░     │     ░     │     ░     │     ░ └───┬───┘ ░     │     ░ ┌───┴───┐ ░  ░ ├───────┤ ░  ░ \n",
       "q_5: ─░─────┼─────░─────┼─────░─────┼─────░─────o─────░─────o─────░─────┼─────░─────o─────░─┤ Rx(2) ├─░──░─┤ Rz(2) ├─░──░─\n",
       "      ░     │     ░     │     ░ ┌───┴───┐ ░           ░     │     ░     │     ░           ░ └───────┘ ░  ░ ├───────┤ ░  ░ \n",
       "q_6: ─░─────o─────░─────o─────░─┤ Rx(2) ├─░───────────░─────┼─────░─────o─────░───────────░───────────░──░─┤ Rz(2) ├─░──░─\n",
       "      ░     │     ░ ┌───┴───┐ ░ └───┬───┘ ░           ░     │     ░           ░           ░           ░  ░ ├───────┤ ░  ░ \n",
       "q_7: ─░─────o─────░─┤ Rx(2) ├─░─────o─────░───────────░─────o─────░───────────░───────────░───────────░──░─┤ Rz(2) ├─░──░─\n",
       "      ░           ░ └───────┘ ░           ░           ░           ░           ░           ░           ░  ░ └───────┘ ░  ░ "
      ]
     },
     "execution_count": 3,
     "metadata": {},
     "output_type": "execute_result"
    }
   ],
   "source": [
    "new_circ = dqva.gen_dqva(G, params=[1 for _ in range(G.number_of_nodes()+1)], barriers=2, decompose_toffoli=0)\n",
    "new_circ.draw(fold=-1)"
   ]
  },
  {
   "cell_type": "code",
   "execution_count": 4,
   "id": "8dc6e87c-6401-419a-a315-1e73a13f8492",
   "metadata": {},
   "outputs": [
    {
     "data": {
      "text/html": [
       "<pre style=\"word-wrap: normal;white-space: pre;background: #fff0;line-height: 1.1;font-family: &quot;Courier New&quot;,Courier,monospace\">        ░                     ░                     ░                     ░                     ░                     ░                     ░      ┌───────┐      ░                     ░  ░ ┌───────┐ ░  ░ \n",
       "  q_0: ─░─────────────────────░─────────────────────░─────────────────────░───o─────────────o───░─────────────────────░───o─────────────o───░──────┤ Rx(2) ├──────░───o─────────────o───░──░─┤ Rz(2) ├─░──░─\n",
       "        ░                     ░                     ░                     ░   │             │   ░      ┌───────┐      ░   │             │   ░      └───┬───┘      ░   │             │   ░  ░ ├───────┤ ░  ░ \n",
       "  q_1: ─░─────────────────────░───o─────────────o───░─────────────────────░───┼─────────────┼───░──────┤ Rx(2) ├──────░───o─────────────o───░──────────┼──────────░───o─────────────o───░──░─┤ Rz(2) ├─░──░─\n",
       "        ░      ┌───────┐      ░   │             │   ░                     ░   │             │   ░      └───┬───┘      ░   │             │   ░          │          ░   │             │   ░  ░ ├───────┤ ░  ░ \n",
       "  q_2: ─░──────┤ Rx(2) ├──────░───o─────────────o───░───o─────────────o───░───o─────────────o───░──────────┼──────────░───┼─────────────┼───░──────────┼──────────░───┼─────────────┼───░──░─┤ Rz(2) ├─░──░─\n",
       "        ░      └───┬───┘      ░   │             │   ░   │             │   ░   │  ┌───────┐  │   ░          │          ░   │             │   ░          │          ░   │             │   ░  ░ ├───────┤ ░  ░ \n",
       "  q_3: ─░───o──────┼──────o───░───┼─────────────┼───░───┼─────────────┼───░───┼──┤ Rx(2) ├──┼───░──────────┼──────────░───┼─────────────┼───░───o──────┼──────o───░───o─────────────o───░──░─┤ Rz(2) ├─░──░─\n",
       "        ░   │      │      │   ░   │             │   ░   │             │   ░   │  └───┬───┘  │   ░          │          ░   │  ┌───────┐  │   ░   │      │      │   ░   │             │   ░  ░ ├───────┤ ░  ░ \n",
       "  q_4: ─░───┼──────┼──────┼───░───┼─────────────┼───░───o─────────────o───░───┼──────┼──────┼───░───o──────┼──────o───░───┼──┤ Rx(2) ├──┼───░───o──────┼──────o───░───┼─────────────┼───░──░─┤ Rz(2) ├─░──░─\n",
       "        ░   │      │      │   ░   │             │   ░   │             │   ░   │      │      │   ░   │      │      │   ░   │  └───┬───┘  │   ░   │      │      │   ░   │  ┌───────┐  │   ░  ░ ├───────┤ ░  ░ \n",
       "  q_5: ─░───┼──────┼──────┼───░───┼─────────────┼───░───┼─────────────┼───░───o──────┼──────o───░───o──────┼──────o───░───┼──────┼──────┼───░───o──────┼──────o───░───┼──┤ Rx(2) ├──┼───░──░─┤ Rz(2) ├─░──░─\n",
       "        ░   │      │      │   ░   │             │   ░   │  ┌───────┐  │   ░   │      │      │   ░   │      │      │   ░   │      │      │   ░   │      │      │   ░   │  └───┬───┘  │   ░  ░ ├───────┤ ░  ░ \n",
       "  q_6: ─░───o──────┼──────o───░───o─────────────o───░───┼──┤ Rx(2) ├──┼───░───┼──────┼──────┼───░───┼──────┼──────┼───░───o──────┼──────o───░───┼──────┼──────┼───░───┼──────┼──────┼───░──░─┤ Rz(2) ├─░──░─\n",
       "        ░   │      │      │   ░   │  ┌───────┐  │   ░   │  └───┬───┘  │   ░   │      │      │   ░   │      │      │   ░   │      │      │   ░   │      │      │   ░   │      │      │   ░  ░ ├───────┤ ░  ░ \n",
       "  q_7: ─░───o──────┼──────o───░───┼──┤ Rx(2) ├──┼───░───o──────┼──────o───░───┼──────┼──────┼───░───o──────┼──────o───░───┼──────┼──────┼───░───┼──────┼──────┼───░───┼──────┼──────┼───░──░─┤ Rz(2) ├─░──░─\n",
       "        ░ ┌─┴─┐    │    ┌─┴─┐ ░ ┌─┴─┐└───┬───┘┌─┴─┐ ░ ┌─┴─┐    │    ┌─┴─┐ ░ ┌─┴─┐    │    ┌─┴─┐ ░ ┌─┴─┐    │    ┌─┴─┐ ░ ┌─┴─┐    │    ┌─┴─┐ ░ ┌─┴─┐    │    ┌─┴─┐ ░ ┌─┴─┐    │    ┌─┴─┐ ░  ░ └───────┘ ░  ░ \n",
       "anc_0: ─░─┤ X ├────■────┤ X ├─░─┤ X ├────■────┤ X ├─░─┤ X ├────■────┤ X ├─░─┤ X ├────■────┤ X ├─░─┤ X ├────■────┤ X ├─░─┤ X ├────■────┤ X ├─░─┤ X ├────■────┤ X ├─░─┤ X ├────■────┤ X ├─░──░───────────░──░─\n",
       "        ░ └───┘         └───┘ ░ └───┘         └───┘ ░ └───┘         └───┘ ░ └───┘         └───┘ ░ └───┘         └───┘ ░ └───┘         └───┘ ░ └───┘         └───┘ ░ └───┘         └───┘ ░  ░           ░  ░ </pre>"
      ],
      "text/plain": [
       "        ░                     ░                     ░                     ░                     ░                     ░                     ░      ┌───────┐      ░                     ░  ░ ┌───────┐ ░  ░ \n",
       "  q_0: ─░─────────────────────░─────────────────────░─────────────────────░───o─────────────o───░─────────────────────░───o─────────────o───░──────┤ Rx(2) ├──────░───o─────────────o───░──░─┤ Rz(2) ├─░──░─\n",
       "        ░                     ░                     ░                     ░   │             │   ░      ┌───────┐      ░   │             │   ░      └───┬───┘      ░   │             │   ░  ░ ├───────┤ ░  ░ \n",
       "  q_1: ─░─────────────────────░───o─────────────o───░─────────────────────░───┼─────────────┼───░──────┤ Rx(2) ├──────░───o─────────────o───░──────────┼──────────░───o─────────────o───░──░─┤ Rz(2) ├─░──░─\n",
       "        ░      ┌───────┐      ░   │             │   ░                     ░   │             │   ░      └───┬───┘      ░   │             │   ░          │          ░   │             │   ░  ░ ├───────┤ ░  ░ \n",
       "  q_2: ─░──────┤ Rx(2) ├──────░───o─────────────o───░───o─────────────o───░───o─────────────o───░──────────┼──────────░───┼─────────────┼───░──────────┼──────────░───┼─────────────┼───░──░─┤ Rz(2) ├─░──░─\n",
       "        ░      └───┬───┘      ░   │             │   ░   │             │   ░   │  ┌───────┐  │   ░          │          ░   │             │   ░          │          ░   │             │   ░  ░ ├───────┤ ░  ░ \n",
       "  q_3: ─░───o──────┼──────o───░───┼─────────────┼───░───┼─────────────┼───░───┼──┤ Rx(2) ├──┼───░──────────┼──────────░───┼─────────────┼───░───o──────┼──────o───░───o─────────────o───░──░─┤ Rz(2) ├─░──░─\n",
       "        ░   │      │      │   ░   │             │   ░   │             │   ░   │  └───┬───┘  │   ░          │          ░   │  ┌───────┐  │   ░   │      │      │   ░   │             │   ░  ░ ├───────┤ ░  ░ \n",
       "  q_4: ─░───┼──────┼──────┼───░───┼─────────────┼───░───o─────────────o───░───┼──────┼──────┼───░───o──────┼──────o───░───┼──┤ Rx(2) ├──┼───░───o──────┼──────o───░───┼─────────────┼───░──░─┤ Rz(2) ├─░──░─\n",
       "        ░   │      │      │   ░   │             │   ░   │             │   ░   │      │      │   ░   │      │      │   ░   │  └───┬───┘  │   ░   │      │      │   ░   │  ┌───────┐  │   ░  ░ ├───────┤ ░  ░ \n",
       "  q_5: ─░───┼──────┼──────┼───░───┼─────────────┼───░───┼─────────────┼───░───o──────┼──────o───░───o──────┼──────o───░───┼──────┼──────┼───░───o──────┼──────o───░───┼──┤ Rx(2) ├──┼───░──░─┤ Rz(2) ├─░──░─\n",
       "        ░   │      │      │   ░   │             │   ░   │  ┌───────┐  │   ░   │      │      │   ░   │      │      │   ░   │      │      │   ░   │      │      │   ░   │  └───┬───┘  │   ░  ░ ├───────┤ ░  ░ \n",
       "  q_6: ─░───o──────┼──────o───░───o─────────────o───░───┼──┤ Rx(2) ├──┼───░───┼──────┼──────┼───░───┼──────┼──────┼───░───o──────┼──────o───░───┼──────┼──────┼───░───┼──────┼──────┼───░──░─┤ Rz(2) ├─░──░─\n",
       "        ░   │      │      │   ░   │  ┌───────┐  │   ░   │  └───┬───┘  │   ░   │      │      │   ░   │      │      │   ░   │      │      │   ░   │      │      │   ░   │      │      │   ░  ░ ├───────┤ ░  ░ \n",
       "  q_7: ─░───o──────┼──────o───░───┼──┤ Rx(2) ├──┼───░───o──────┼──────o───░───┼──────┼──────┼───░───o──────┼──────o───░───┼──────┼──────┼───░───┼──────┼──────┼───░───┼──────┼──────┼───░──░─┤ Rz(2) ├─░──░─\n",
       "        ░ ┌─┴─┐    │    ┌─┴─┐ ░ ┌─┴─┐└───┬───┘┌─┴─┐ ░ ┌─┴─┐    │    ┌─┴─┐ ░ ┌─┴─┐    │    ┌─┴─┐ ░ ┌─┴─┐    │    ┌─┴─┐ ░ ┌─┴─┐    │    ┌─┴─┐ ░ ┌─┴─┐    │    ┌─┴─┐ ░ ┌─┴─┐    │    ┌─┴─┐ ░  ░ └───────┘ ░  ░ \n",
       "anc_0: ─░─┤ X ├────■────┤ X ├─░─┤ X ├────■────┤ X ├─░─┤ X ├────■────┤ X ├─░─┤ X ├────■────┤ X ├─░─┤ X ├────■────┤ X ├─░─┤ X ├────■────┤ X ├─░─┤ X ├────■────┤ X ├─░─┤ X ├────■────┤ X ├─░──░───────────░──░─\n",
       "        ░ └───┘         └───┘ ░ └───┘         └───┘ ░ └───┘         └───┘ ░ └───┘         └───┘ ░ └───┘         └───┘ ░ └───┘         └───┘ ░ └───┘         └───┘ ░ └───┘         └───┘ ░  ░           ░  ░ "
      ]
     },
     "execution_count": 4,
     "metadata": {},
     "output_type": "execute_result"
    }
   ],
   "source": [
    "old_circ = dqv_ancilla_ansatz.gen_dqva(G, params=[1 for _ in range(G.number_of_nodes()+1)], barriers=2, decompose_toffoli=0)\n",
    "old_circ.draw(fold=-1)"
   ]
  },
  {
   "cell_type": "code",
   "execution_count": null,
   "id": "b8f9e19a-b0d5-4633-b801-56d057377390",
   "metadata": {},
   "outputs": [],
   "source": []
  }
 ],
 "metadata": {
  "kernelspec": {
   "display_name": "Python 3 (ipykernel)",
   "language": "python",
   "name": "python3"
  },
  "language_info": {
   "codemirror_mode": {
    "name": "ipython",
    "version": 3
   },
   "file_extension": ".py",
   "mimetype": "text/x-python",
   "name": "python",
   "nbconvert_exporter": "python",
   "pygments_lexer": "ipython3",
   "version": "3.8.10"
  }
 },
 "nbformat": 4,
 "nbformat_minor": 5
}
